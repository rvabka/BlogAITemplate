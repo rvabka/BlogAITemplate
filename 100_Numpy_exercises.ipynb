{
  "cells": [
    {
      "cell_type": "markdown",
      "id": "5a28b949",
      "metadata": {
        "id": "5a28b949"
      },
      "source": [
        "# 100 numpy exercises\n",
        "\n",
        "This is a collection of exercises that have been collected in the numpy mailing list, on stack overflow\n",
        "and in the numpy documentation. The goal of this collection is to offer a quick reference for both old\n",
        "and new users but also to provide a set of exercises for those who teach.\n",
        "\n",
        "\n",
        "If you find an error or think you've a better way to solve some of them, feel\n",
        "free to open an issue at <https://github.com/rougier/numpy-100>."
      ]
    },
    {
      "cell_type": "code",
      "source": [
        "%cd numpy-100"
      ],
      "metadata": {
        "colab": {
          "base_uri": "https://localhost:8080/"
        },
        "id": "4wAzZgjUJPBh",
        "outputId": "b508bcf3-c6c6-4dce-c9c2-03aba834bdf7"
      },
      "id": "4wAzZgjUJPBh",
      "execution_count": 2,
      "outputs": [
        {
          "output_type": "stream",
          "name": "stdout",
          "text": [
            "/content/numpy-100\n"
          ]
        }
      ]
    },
    {
      "cell_type": "code",
      "source": [
        "!pip install mdutils"
      ],
      "metadata": {
        "colab": {
          "base_uri": "https://localhost:8080/"
        },
        "id": "25tbudOiJj7x",
        "outputId": "f20c01ca-b847-4d12-87ea-a4999f2930fd"
      },
      "id": "25tbudOiJj7x",
      "execution_count": 3,
      "outputs": [
        {
          "output_type": "stream",
          "name": "stdout",
          "text": [
            "Collecting mdutils\n",
            "  Downloading mdutils-1.8.0-py3-none-any.whl.metadata (3.5 kB)\n",
            "Downloading mdutils-1.8.0-py3-none-any.whl (21 kB)\n",
            "Installing collected packages: mdutils\n",
            "Successfully installed mdutils-1.8.0\n"
          ]
        }
      ]
    },
    {
      "cell_type": "code",
      "source": [
        "!git clone https://github.com/rougier/numpy-100.git"
      ],
      "metadata": {
        "colab": {
          "base_uri": "https://localhost:8080/"
        },
        "id": "-NRML__EJWIG",
        "outputId": "4e4ed85a-57a0-43ee-8fe4-d9ddd76d3d61"
      },
      "id": "-NRML__EJWIG",
      "execution_count": 1,
      "outputs": [
        {
          "output_type": "stream",
          "name": "stdout",
          "text": [
            "Cloning into 'numpy-100'...\n",
            "remote: Enumerating objects: 1081, done.\u001b[K\n",
            "remote: Counting objects: 100% (421/421), done.\u001b[K\n",
            "remote: Compressing objects: 100% (97/97), done.\u001b[K\n",
            "remote: Total 1081 (delta 369), reused 324 (delta 324), pack-reused 660 (from 3)\u001b[K\n",
            "Receiving objects: 100% (1081/1081), 525.18 KiB | 8.75 MiB/s, done.\n",
            "Resolving deltas: 100% (626/626), done.\n"
          ]
        }
      ]
    },
    {
      "cell_type": "markdown",
      "id": "3f7a87ec",
      "metadata": {
        "id": "3f7a87ec"
      },
      "source": [
        "File automatically generated. See the documentation to update questions/answers/hints programmatically."
      ]
    },
    {
      "cell_type": "markdown",
      "id": "854ecf1b",
      "metadata": {
        "id": "854ecf1b"
      },
      "source": [
        "Run the `initialise.py` module, then for each question you can query the\n",
        "answer or an hint with `hint(n)` or `answer(n)` for `n` question number."
      ]
    },
    {
      "cell_type": "code",
      "execution_count": 7,
      "id": "c53ea877",
      "metadata": {
        "id": "c53ea877"
      },
      "outputs": [],
      "source": [
        "%run initialise.py"
      ]
    },
    {
      "cell_type": "markdown",
      "id": "c00df986",
      "metadata": {
        "id": "c00df986"
      },
      "source": [
        "#### 1. Import the numpy package under the name `np` (★☆☆)"
      ]
    },
    {
      "cell_type": "code",
      "execution_count": 10,
      "id": "35bde95c",
      "metadata": {
        "id": "35bde95c"
      },
      "outputs": [],
      "source": [
        "import numpy as np\n",
        "\n"
      ]
    },
    {
      "cell_type": "markdown",
      "id": "b555a89f",
      "metadata": {
        "id": "b555a89f"
      },
      "source": [
        "#### 2. Print the numpy version and the configuration (★☆☆)"
      ]
    },
    {
      "cell_type": "code",
      "execution_count": 11,
      "id": "2c9d363d",
      "metadata": {
        "colab": {
          "base_uri": "https://localhost:8080/"
        },
        "collapsed": true,
        "id": "2c9d363d",
        "outputId": "0bdc6136-ecaf-42b0-f405-bd5822e462bc"
      },
      "outputs": [
        {
          "output_type": "stream",
          "name": "stdout",
          "text": [
            "2.0.2\n",
            "Build Dependencies:\n",
            "  blas:\n",
            "    detection method: pkgconfig\n",
            "    found: true\n",
            "    include directory: /opt/_internal/cpython-3.12.2/lib/python3.12/site-packages/scipy_openblas64/include\n",
            "    lib directory: /opt/_internal/cpython-3.12.2/lib/python3.12/site-packages/scipy_openblas64/lib\n",
            "    name: scipy-openblas\n",
            "    openblas configuration: OpenBLAS 0.3.27  USE64BITINT DYNAMIC_ARCH NO_AFFINITY\n",
            "      Zen MAX_THREADS=64\n",
            "    pc file directory: /project/.openblas\n",
            "    version: 0.3.27\n",
            "  lapack:\n",
            "    detection method: pkgconfig\n",
            "    found: true\n",
            "    include directory: /opt/_internal/cpython-3.12.2/lib/python3.12/site-packages/scipy_openblas64/include\n",
            "    lib directory: /opt/_internal/cpython-3.12.2/lib/python3.12/site-packages/scipy_openblas64/lib\n",
            "    name: scipy-openblas\n",
            "    openblas configuration: OpenBLAS 0.3.27  USE64BITINT DYNAMIC_ARCH NO_AFFINITY\n",
            "      Zen MAX_THREADS=64\n",
            "    pc file directory: /project/.openblas\n",
            "    version: 0.3.27\n",
            "Compilers:\n",
            "  c:\n",
            "    commands: cc\n",
            "    linker: ld.bfd\n",
            "    name: gcc\n",
            "    version: 10.2.1\n",
            "  c++:\n",
            "    commands: c++\n",
            "    linker: ld.bfd\n",
            "    name: gcc\n",
            "    version: 10.2.1\n",
            "  cython:\n",
            "    commands: cython\n",
            "    linker: cython\n",
            "    name: cython\n",
            "    version: 3.0.11\n",
            "Machine Information:\n",
            "  build:\n",
            "    cpu: x86_64\n",
            "    endian: little\n",
            "    family: x86_64\n",
            "    system: linux\n",
            "  host:\n",
            "    cpu: x86_64\n",
            "    endian: little\n",
            "    family: x86_64\n",
            "    system: linux\n",
            "Python Information:\n",
            "  path: /tmp/build-env-8744k94k/bin/python\n",
            "  version: '3.12'\n",
            "SIMD Extensions:\n",
            "  baseline:\n",
            "  - SSE\n",
            "  - SSE2\n",
            "  - SSE3\n",
            "  found:\n",
            "  - SSSE3\n",
            "  - SSE41\n",
            "  - POPCNT\n",
            "  - SSE42\n",
            "  - AVX\n",
            "  - F16C\n",
            "  - FMA3\n",
            "  - AVX2\n",
            "  not found:\n",
            "  - AVX512F\n",
            "  - AVX512CD\n",
            "  - AVX512_KNL\n",
            "  - AVX512_KNM\n",
            "  - AVX512_SKX\n",
            "  - AVX512_CLX\n",
            "  - AVX512_CNL\n",
            "  - AVX512_ICL\n",
            "\n",
            "None\n"
          ]
        }
      ],
      "source": [
        "print(np.__version__)\n",
        "print(np.show_config())"
      ]
    },
    {
      "cell_type": "markdown",
      "id": "e2713407",
      "metadata": {
        "id": "e2713407"
      },
      "source": [
        "#### 3. Create a null vector of size 10 (★☆☆)"
      ]
    },
    {
      "cell_type": "code",
      "execution_count": 14,
      "id": "6df2f6db",
      "metadata": {
        "colab": {
          "base_uri": "https://localhost:8080/"
        },
        "id": "6df2f6db",
        "outputId": "0e17077b-d275-4564-9aab-0c11a7cc5a83"
      },
      "outputs": [
        {
          "output_type": "stream",
          "name": "stdout",
          "text": [
            "[0. 0. 0. 0. 0. 0. 0. 0. 0. 0.]\n"
          ]
        }
      ],
      "source": [
        "vector = np.zeros(10)\n",
        "print(vector)"
      ]
    },
    {
      "cell_type": "markdown",
      "source": [],
      "metadata": {
        "id": "BVsbPP1iLmK5"
      },
      "id": "BVsbPP1iLmK5"
    },
    {
      "cell_type": "markdown",
      "id": "5a09554f",
      "metadata": {
        "id": "5a09554f"
      },
      "source": [
        "#### 4. How to find the memory size of any array (★☆☆)"
      ]
    },
    {
      "cell_type": "code",
      "execution_count": 15,
      "id": "c55a2a00",
      "metadata": {
        "colab": {
          "base_uri": "https://localhost:8080/"
        },
        "id": "c55a2a00",
        "outputId": "8e79158f-0d10-4226-dbfe-efd24398ca64"
      },
      "outputs": [
        {
          "output_type": "stream",
          "name": "stdout",
          "text": [
            "800 bytes\n"
          ]
        }
      ],
      "source": [
        "arr = np.zeros((10,10))\n",
        "print(\"%d bytes\" % (arr.size * arr.itemsize))"
      ]
    },
    {
      "cell_type": "markdown",
      "id": "4720d438",
      "metadata": {
        "id": "4720d438"
      },
      "source": [
        "#### 5. How to get the documentation of the numpy add function from the command line? (★☆☆)"
      ]
    },
    {
      "cell_type": "code",
      "execution_count": 18,
      "id": "d9e2277e",
      "metadata": {
        "colab": {
          "base_uri": "https://localhost:8080/"
        },
        "collapsed": true,
        "id": "d9e2277e",
        "outputId": "593ec8ec-8196-4e80-8895-bd23909c84d0"
      },
      "outputs": [
        {
          "output_type": "stream",
          "name": "stdout",
          "text": [
            "add(x1, x2, /, out=None, *, where=True, casting='same_kind', order='K', dtype=None, subok=True[, signature])\n",
            "\n",
            "Add arguments element-wise.\n",
            "\n",
            "Parameters\n",
            "----------\n",
            "x1, x2 : array_like\n",
            "    The arrays to be added.\n",
            "    If ``x1.shape != x2.shape``, they must be broadcastable to a common\n",
            "    shape (which becomes the shape of the output).\n",
            "out : ndarray, None, or tuple of ndarray and None, optional\n",
            "    A location into which the result is stored. If provided, it must have\n",
            "    a shape that the inputs broadcast to. If not provided or None,\n",
            "    a freshly-allocated array is returned. A tuple (possible only as a\n",
            "    keyword argument) must have length equal to the number of outputs.\n",
            "where : array_like, optional\n",
            "    This condition is broadcast over the input. At locations where the\n",
            "    condition is True, the `out` array will be set to the ufunc result.\n",
            "    Elsewhere, the `out` array will retain its original value.\n",
            "    Note that if an uninitialized `out` array is created via the default\n",
            "    ``out=None``, locations within it where the condition is False will\n",
            "    remain uninitialized.\n",
            "**kwargs\n",
            "    For other keyword-only arguments, see the\n",
            "    :ref:`ufunc docs <ufuncs.kwargs>`.\n",
            "\n",
            "Returns\n",
            "-------\n",
            "add : ndarray or scalar\n",
            "    The sum of `x1` and `x2`, element-wise.\n",
            "    This is a scalar if both `x1` and `x2` are scalars.\n",
            "\n",
            "Notes\n",
            "-----\n",
            "Equivalent to `x1` + `x2` in terms of array broadcasting.\n",
            "\n",
            "Examples\n",
            "--------\n",
            ">>> np.add(1.0, 4.0)\n",
            "5.0\n",
            ">>> x1 = np.arange(9.0).reshape((3, 3))\n",
            ">>> x2 = np.arange(3.0)\n",
            ">>> np.add(x1, x2)\n",
            "array([[  0.,   2.,   4.],\n",
            "       [  3.,   5.,   7.],\n",
            "       [  6.,   8.,  10.]])\n",
            "\n",
            "The ``+`` operator can be used as a shorthand for ``np.add`` on ndarrays.\n",
            "\n",
            ">>> x1 = np.arange(9.0).reshape((3, 3))\n",
            ">>> x2 = np.arange(3.0)\n",
            ">>> x1 + x2\n",
            "array([[ 0.,  2.,  4.],\n",
            "       [ 3.,  5.,  7.],\n",
            "       [ 6.,  8., 10.]])\n"
          ]
        }
      ],
      "source": [
        "np.info(np.add)"
      ]
    },
    {
      "cell_type": "markdown",
      "id": "b812d322",
      "metadata": {
        "id": "b812d322"
      },
      "source": [
        "#### 6. Create a null vector of size 10 but the fifth value which is 1 (★☆☆)"
      ]
    },
    {
      "cell_type": "code",
      "execution_count": 19,
      "id": "9f95cedf",
      "metadata": {
        "colab": {
          "base_uri": "https://localhost:8080/"
        },
        "id": "9f95cedf",
        "outputId": "83b4a011-bb58-4774-8e1b-ef011a20b61c"
      },
      "outputs": [
        {
          "output_type": "stream",
          "name": "stdout",
          "text": [
            "[0. 0. 0. 0. 1. 0. 0. 0. 0. 0.]\n"
          ]
        }
      ],
      "source": [
        "v = np.zeros(10)\n",
        "v[4] = 1\n",
        "print(v)"
      ]
    },
    {
      "cell_type": "markdown",
      "id": "a348f2a8",
      "metadata": {
        "id": "a348f2a8"
      },
      "source": [
        "#### 7. Create a vector with values ranging from 10 to 49 (★☆☆)"
      ]
    },
    {
      "cell_type": "code",
      "execution_count": 20,
      "id": "5a68fd5b",
      "metadata": {
        "colab": {
          "base_uri": "https://localhost:8080/"
        },
        "id": "5a68fd5b",
        "outputId": "6b9866e0-cacb-48de-e0cc-4cfb6aa3f03c"
      },
      "outputs": [
        {
          "output_type": "stream",
          "name": "stdout",
          "text": [
            "[10 11 12 13 14 15 16 17 18 19 20 21 22 23 24 25 26 27 28 29 30 31 32 33\n",
            " 34 35 36 37 38 39 40 41 42 43 44 45 46 47 48 49]\n"
          ]
        }
      ],
      "source": [
        "v = np.arange(10,50)\n",
        "print(v)"
      ]
    },
    {
      "cell_type": "markdown",
      "id": "2f4ca4c0",
      "metadata": {
        "id": "2f4ca4c0"
      },
      "source": [
        "#### 8. Reverse a vector (first element becomes last) (★☆☆)"
      ]
    },
    {
      "cell_type": "code",
      "execution_count": 23,
      "id": "1892e775",
      "metadata": {
        "colab": {
          "base_uri": "https://localhost:8080/"
        },
        "id": "1892e775",
        "outputId": "e5bfe6dd-f713-4851-cef2-7a9ace8756f0"
      },
      "outputs": [
        {
          "output_type": "stream",
          "name": "stdout",
          "text": [
            "[5 4 3 2 1]\n"
          ]
        }
      ],
      "source": [
        "v = np.array([1,2,3,4,5])\n",
        "reversed = v[::-1]\n",
        "print(reversed)"
      ]
    },
    {
      "cell_type": "markdown",
      "id": "31381832",
      "metadata": {
        "id": "31381832"
      },
      "source": [
        "#### 9. Create a 3x3 matrix with values ranging from 0 to 8 (★☆☆)"
      ]
    },
    {
      "cell_type": "code",
      "execution_count": 24,
      "id": "0154f251",
      "metadata": {
        "colab": {
          "base_uri": "https://localhost:8080/"
        },
        "id": "0154f251",
        "outputId": "e4b50671-05ad-4084-8a83-a51b55a89c9d"
      },
      "outputs": [
        {
          "output_type": "stream",
          "name": "stdout",
          "text": [
            "[[0 1 2]\n",
            " [3 4 5]\n",
            " [6 7 8]]\n"
          ]
        }
      ],
      "source": [
        "m = np.arange(9).reshape(3,3)\n",
        "print(m)"
      ]
    },
    {
      "cell_type": "markdown",
      "id": "8c353e84",
      "metadata": {
        "id": "8c353e84"
      },
      "source": [
        "#### 10. Find indices of non-zero elements from [1,2,0,0,4,0] (★☆☆)"
      ]
    },
    {
      "cell_type": "code",
      "execution_count": 25,
      "id": "da3495c3",
      "metadata": {
        "colab": {
          "base_uri": "https://localhost:8080/"
        },
        "id": "da3495c3",
        "outputId": "62c3f045-0fd3-478d-f64f-12b9c3ee4396"
      },
      "outputs": [
        {
          "output_type": "stream",
          "name": "stdout",
          "text": [
            "(array([0, 1, 4]),)\n"
          ]
        }
      ],
      "source": [
        "a = np.array([1,2,0,0,4,0])\n",
        "indices = np.nonzero(a)\n",
        "print(indices)"
      ]
    },
    {
      "cell_type": "markdown",
      "id": "a26ac749",
      "metadata": {
        "id": "a26ac749"
      },
      "source": [
        "#### 11. Create a 3x3 identity matrix (★☆☆)"
      ]
    },
    {
      "cell_type": "code",
      "execution_count": 27,
      "id": "3e33feda",
      "metadata": {
        "colab": {
          "base_uri": "https://localhost:8080/"
        },
        "id": "3e33feda",
        "outputId": "29462ea5-47ab-436f-c435-dddc3e47a458"
      },
      "outputs": [
        {
          "output_type": "stream",
          "name": "stdout",
          "text": [
            "[[1. 0. 0.]\n",
            " [0. 1. 0.]\n",
            " [0. 0. 1.]]\n"
          ]
        }
      ],
      "source": [
        "identify = np.eye(3)\n",
        "print(identify)"
      ]
    },
    {
      "cell_type": "markdown",
      "id": "3a293379",
      "metadata": {
        "id": "3a293379"
      },
      "source": [
        "#### 12. Create a 3x3x3 array with random values (★☆☆)"
      ]
    },
    {
      "cell_type": "code",
      "execution_count": 30,
      "id": "2da08152",
      "metadata": {
        "colab": {
          "base_uri": "https://localhost:8080/"
        },
        "id": "2da08152",
        "outputId": "22f3717f-1456-4b34-e584-fd5220d5a592"
      },
      "outputs": [
        {
          "output_type": "stream",
          "name": "stdout",
          "text": [
            "[[[0.28341921 0.30765049 0.81937427]\n",
            "  [0.65416173 0.5159504  0.7262067 ]\n",
            "  [0.14110841 0.41034254 0.33008594]]\n",
            "\n",
            " [[0.77323596 0.68662827 0.15097658]\n",
            "  [0.10704321 0.3066602  0.26866614]\n",
            "  [0.63940064 0.8001068  0.47661849]]\n",
            "\n",
            " [[0.19496246 0.02602326 0.19751831]\n",
            "  [0.61412168 0.08019578 0.17530983]\n",
            "  [0.07466817 0.08497317 0.10272878]]]\n"
          ]
        }
      ],
      "source": [
        "a = np.random.random((3,3,3))\n",
        "print(a)"
      ]
    },
    {
      "cell_type": "markdown",
      "id": "e3faa924",
      "metadata": {
        "id": "e3faa924"
      },
      "source": [
        "#### 13. Create a 10x10 array with random values and find the minimum and maximum values (★☆☆)"
      ]
    },
    {
      "cell_type": "code",
      "execution_count": 31,
      "id": "e9fb3793",
      "metadata": {
        "colab": {
          "base_uri": "https://localhost:8080/"
        },
        "id": "e9fb3793",
        "outputId": "7d6ee07c-093e-4edd-a675-c9b1e00814e9"
      },
      "outputs": [
        {
          "output_type": "stream",
          "name": "stdout",
          "text": [
            "[[0.28086655 0.92811546 0.35906188 0.21423656 0.72140392 0.63392942\n",
            "  0.54875513 0.76306697 0.82658373 0.55480877]\n",
            " [0.2206466  0.07012398 0.63368986 0.52546545 0.03770163 0.1013944\n",
            "  0.23744174 0.79490035 0.47831455 0.94661524]\n",
            " [0.6333979  0.0998127  0.04634997 0.84154905 0.12551241 0.18799157\n",
            "  0.0611639  0.64279596 0.14435426 0.31516056]\n",
            " [0.86583359 0.50713973 0.37282533 0.30174945 0.3898762  0.97070734\n",
            "  0.40081335 0.49992082 0.34489813 0.23848872]\n",
            " [0.5194655  0.74266917 0.09290182 0.01441702 0.10463394 0.80975326\n",
            "  0.50573371 0.72773477 0.39546997 0.09581215]\n",
            " [0.58940015 0.66935136 0.03552641 0.8642236  0.70617763 0.23457636\n",
            "  0.27137844 0.63275412 0.66180191 0.30054548]\n",
            " [0.12409391 0.28321222 0.47904977 0.78972747 0.53017536 0.41135546\n",
            "  0.74648106 0.73513687 0.72413089 0.31562473]\n",
            " [0.55451806 0.76709747 0.68633496 0.60724148 0.31583167 0.16092392\n",
            "  0.86716112 0.73820253 0.40239888 0.87137094]\n",
            " [0.78643321 0.88022052 0.55047077 0.67519789 0.663181   0.39867383\n",
            "  0.37940831 0.40506036 0.05470966 0.93442066]\n",
            " [0.51624544 0.20069757 0.98263319 0.17678865 0.62283806 0.65301545\n",
            "  0.83042999 0.89978023 0.06972076 0.4428298 ]]\n",
            "0.014417020318914453\n",
            "0.9826331903589385\n"
          ]
        }
      ],
      "source": [
        "matrix = np.random.random((10,10))\n",
        "print(matrix)\n",
        "print(matrix.min())\n",
        "print(matrix.max())"
      ]
    },
    {
      "cell_type": "markdown",
      "id": "317cb8d1",
      "metadata": {
        "id": "317cb8d1"
      },
      "source": [
        "#### 14. Create a random vector of size 30 and find the mean value (★☆☆)"
      ]
    },
    {
      "cell_type": "code",
      "execution_count": 32,
      "id": "4ea995d6",
      "metadata": {
        "colab": {
          "base_uri": "https://localhost:8080/"
        },
        "id": "4ea995d6",
        "outputId": "1e09b926-ecc3-470a-9409-c0b4a6a0d8f0"
      },
      "outputs": [
        {
          "output_type": "stream",
          "name": "stdout",
          "text": [
            "0.5225265916381564\n"
          ]
        }
      ],
      "source": [
        "v = np.random.random(30)\n",
        "print(v.mean())"
      ]
    },
    {
      "cell_type": "markdown",
      "id": "b8dee0f2",
      "metadata": {
        "id": "b8dee0f2"
      },
      "source": [
        "#### 15. Create a 2d array with 1 on the border and 0 inside (★☆☆)"
      ]
    },
    {
      "cell_type": "code",
      "execution_count": 33,
      "id": "7054464b",
      "metadata": {
        "colab": {
          "base_uri": "https://localhost:8080/"
        },
        "id": "7054464b",
        "outputId": "163f7b42-ecc2-4268-bbae-3ed28415105c"
      },
      "outputs": [
        {
          "output_type": "stream",
          "name": "stdout",
          "text": [
            "[[1 1 1 1 1 1]\n",
            " [1 0 0 0 0 1]\n",
            " [1 0 0 0 0 1]\n",
            " [1 0 0 0 0 1]\n",
            " [1 0 0 0 0 1]\n",
            " [1 1 1 1 1 1]]\n"
          ]
        }
      ],
      "source": [
        "n = 6\n",
        "a = np.zeros((n,n), dtype=int)\n",
        "a[0,:] = 1\n",
        "a[-1,:] = 1\n",
        "a[:,0] = 1\n",
        "a[:,-1] = 1\n",
        "print(a)"
      ]
    },
    {
      "cell_type": "markdown",
      "id": "1476f45f",
      "metadata": {
        "id": "1476f45f"
      },
      "source": [
        "#### 16. How to add a border (filled with 0's) around an existing array? (★☆☆)"
      ]
    },
    {
      "cell_type": "code",
      "execution_count": null,
      "id": "4f0212af",
      "metadata": {
        "id": "4f0212af"
      },
      "outputs": [],
      "source": []
    },
    {
      "cell_type": "markdown",
      "id": "52844dc7",
      "metadata": {
        "id": "52844dc7"
      },
      "source": [
        "#### 17. What is the result of the following expression? (★☆☆)\n",
        "```python\n",
        "0 * np.nan\n",
        "np.nan == np.nan\n",
        "np.inf > np.nan\n",
        "np.nan - np.nan\n",
        "np.nan in set([np.nan])\n",
        "0.3 == 3 * 0.1\n",
        "```"
      ]
    },
    {
      "cell_type": "code",
      "execution_count": null,
      "id": "cfdb7352",
      "metadata": {
        "id": "cfdb7352"
      },
      "outputs": [],
      "source": []
    },
    {
      "cell_type": "markdown",
      "id": "9801c961",
      "metadata": {
        "id": "9801c961"
      },
      "source": [
        "#### 18. Create a 5x5 matrix with values 1,2,3,4 just below the diagonal (★☆☆)"
      ]
    },
    {
      "cell_type": "code",
      "execution_count": null,
      "id": "4e97651a",
      "metadata": {
        "id": "4e97651a"
      },
      "outputs": [],
      "source": []
    },
    {
      "cell_type": "markdown",
      "id": "3dc05e9f",
      "metadata": {
        "id": "3dc05e9f"
      },
      "source": [
        "#### 19. Create a 8x8 matrix and fill it with a checkerboard pattern (★☆☆)"
      ]
    },
    {
      "cell_type": "code",
      "execution_count": null,
      "id": "0b100b85",
      "metadata": {
        "id": "0b100b85"
      },
      "outputs": [],
      "source": []
    },
    {
      "cell_type": "markdown",
      "id": "d8e941b6",
      "metadata": {
        "id": "d8e941b6"
      },
      "source": [
        "#### 20. Consider a (6,7,8) shape array, what is the index (x,y,z) of the 100th element? (★☆☆)"
      ]
    },
    {
      "cell_type": "code",
      "execution_count": null,
      "id": "b3bc1fcb",
      "metadata": {
        "id": "b3bc1fcb"
      },
      "outputs": [],
      "source": []
    },
    {
      "cell_type": "markdown",
      "id": "bf3b8ab3",
      "metadata": {
        "id": "bf3b8ab3"
      },
      "source": [
        "#### 21. Create a checkerboard 8x8 matrix using the tile function (★☆☆)"
      ]
    },
    {
      "cell_type": "code",
      "execution_count": null,
      "id": "eb15c681",
      "metadata": {
        "id": "eb15c681"
      },
      "outputs": [],
      "source": []
    },
    {
      "cell_type": "markdown",
      "id": "71af9d19",
      "metadata": {
        "id": "71af9d19"
      },
      "source": [
        "#### 22. Normalize a 5x5 random matrix (★☆☆)"
      ]
    },
    {
      "cell_type": "code",
      "execution_count": null,
      "id": "df20b788",
      "metadata": {
        "id": "df20b788"
      },
      "outputs": [],
      "source": []
    },
    {
      "cell_type": "markdown",
      "id": "01cd9893",
      "metadata": {
        "id": "01cd9893"
      },
      "source": [
        "#### 23. Create a custom dtype that describes a color as four unsigned bytes (RGBA) (★☆☆)"
      ]
    },
    {
      "cell_type": "code",
      "execution_count": null,
      "id": "4acddc2f",
      "metadata": {
        "id": "4acddc2f"
      },
      "outputs": [],
      "source": []
    },
    {
      "cell_type": "markdown",
      "id": "0ef5f38b",
      "metadata": {
        "id": "0ef5f38b"
      },
      "source": [
        "#### 24. Multiply a 5x3 matrix by a 3x2 matrix (real matrix product) (★☆☆)"
      ]
    },
    {
      "cell_type": "code",
      "execution_count": null,
      "id": "3d36d4a0",
      "metadata": {
        "id": "3d36d4a0"
      },
      "outputs": [],
      "source": []
    },
    {
      "cell_type": "markdown",
      "id": "a46db425",
      "metadata": {
        "id": "a46db425"
      },
      "source": [
        "#### 25. Given a 1D array, negate all elements which are between 3 and 8, in place. (★☆☆)"
      ]
    },
    {
      "cell_type": "code",
      "execution_count": null,
      "id": "86e3d6a8",
      "metadata": {
        "id": "86e3d6a8"
      },
      "outputs": [],
      "source": []
    },
    {
      "cell_type": "markdown",
      "id": "89fa6007",
      "metadata": {
        "id": "89fa6007"
      },
      "source": [
        "#### 26. What is the output of the following script? (★☆☆)\n",
        "```python\n",
        "# Author: Jake VanderPlas\n",
        "\n",
        "print(sum(range(5),-1))\n",
        "from numpy import *\n",
        "print(sum(range(5),-1))\n",
        "```"
      ]
    },
    {
      "cell_type": "code",
      "execution_count": null,
      "id": "59f2c6dc",
      "metadata": {
        "id": "59f2c6dc"
      },
      "outputs": [],
      "source": []
    },
    {
      "cell_type": "markdown",
      "id": "38de4589",
      "metadata": {
        "id": "38de4589"
      },
      "source": [
        "#### 27. Consider an integer vector Z, which of these expressions are legal? (★☆☆)\n",
        "```python\n",
        "Z**Z\n",
        "2 << Z >> 2\n",
        "Z <- Z\n",
        "1j*Z\n",
        "Z/1/1\n",
        "Z<Z>Z\n",
        "```"
      ]
    },
    {
      "cell_type": "code",
      "execution_count": null,
      "id": "a9dc9520",
      "metadata": {
        "id": "a9dc9520"
      },
      "outputs": [],
      "source": []
    },
    {
      "cell_type": "markdown",
      "id": "77c8b8c7",
      "metadata": {
        "id": "77c8b8c7"
      },
      "source": [
        "#### 28. What are the result of the following expressions? (★☆☆)\n",
        "```python\n",
        "np.array(0) / np.array(0)\n",
        "np.array(0) // np.array(0)\n",
        "np.array([np.nan]).astype(int).astype(float)\n",
        "```"
      ]
    },
    {
      "cell_type": "code",
      "execution_count": null,
      "id": "3b66fe44",
      "metadata": {
        "id": "3b66fe44"
      },
      "outputs": [],
      "source": []
    },
    {
      "cell_type": "markdown",
      "id": "1f3f0892",
      "metadata": {
        "id": "1f3f0892"
      },
      "source": [
        "#### 29. How to round away from zero a float array ? (★☆☆)"
      ]
    },
    {
      "cell_type": "code",
      "execution_count": null,
      "id": "8fce1bd7",
      "metadata": {
        "id": "8fce1bd7"
      },
      "outputs": [],
      "source": []
    },
    {
      "cell_type": "markdown",
      "id": "53f47438",
      "metadata": {
        "id": "53f47438"
      },
      "source": [
        "#### 30. How to find common values between two arrays? (★☆☆)"
      ]
    },
    {
      "cell_type": "code",
      "execution_count": null,
      "id": "981db6ec",
      "metadata": {
        "id": "981db6ec"
      },
      "outputs": [],
      "source": []
    },
    {
      "cell_type": "markdown",
      "id": "51cf9109",
      "metadata": {
        "id": "51cf9109"
      },
      "source": [
        "#### 31. How to ignore all numpy warnings (not recommended)? (★☆☆)"
      ]
    },
    {
      "cell_type": "code",
      "execution_count": null,
      "id": "09ba7521",
      "metadata": {
        "id": "09ba7521"
      },
      "outputs": [],
      "source": []
    },
    {
      "cell_type": "markdown",
      "id": "948a691b",
      "metadata": {
        "id": "948a691b"
      },
      "source": [
        "#### 32. Is the following expressions true? (★☆☆)\n",
        "```python\n",
        "np.sqrt(-1) == np.emath.sqrt(-1)\n",
        "```"
      ]
    },
    {
      "cell_type": "code",
      "execution_count": null,
      "id": "6d8f745b",
      "metadata": {
        "id": "6d8f745b"
      },
      "outputs": [],
      "source": []
    },
    {
      "cell_type": "markdown",
      "id": "d1a8992e",
      "metadata": {
        "id": "d1a8992e"
      },
      "source": [
        "#### 33. How to get the dates of yesterday, today and tomorrow? (★☆☆)"
      ]
    },
    {
      "cell_type": "code",
      "execution_count": null,
      "id": "31a1ade2",
      "metadata": {
        "id": "31a1ade2"
      },
      "outputs": [],
      "source": []
    },
    {
      "cell_type": "markdown",
      "id": "01378794",
      "metadata": {
        "id": "01378794"
      },
      "source": [
        "#### 34. How to get all the dates corresponding to the month of July 2016? (★★☆)"
      ]
    },
    {
      "cell_type": "code",
      "execution_count": null,
      "id": "928c55c6",
      "metadata": {
        "id": "928c55c6"
      },
      "outputs": [],
      "source": []
    },
    {
      "cell_type": "markdown",
      "id": "e3f8fe94",
      "metadata": {
        "id": "e3f8fe94"
      },
      "source": [
        "#### 35. How to compute ((A+B)*(-A/2)) in place (without copy)? (★★☆)"
      ]
    },
    {
      "cell_type": "code",
      "execution_count": null,
      "id": "14e478d5",
      "metadata": {
        "id": "14e478d5"
      },
      "outputs": [],
      "source": []
    },
    {
      "cell_type": "markdown",
      "id": "5c4d58c9",
      "metadata": {
        "id": "5c4d58c9"
      },
      "source": [
        "#### 36. Extract the integer part of a random array of positive numbers using 4 different methods (★★☆)"
      ]
    },
    {
      "cell_type": "code",
      "execution_count": null,
      "id": "586beded",
      "metadata": {
        "id": "586beded"
      },
      "outputs": [],
      "source": []
    },
    {
      "cell_type": "markdown",
      "id": "62628653",
      "metadata": {
        "id": "62628653"
      },
      "source": [
        "#### 37. Create a 5x5 matrix with row values ranging from 0 to 4 (★★☆)"
      ]
    },
    {
      "cell_type": "code",
      "execution_count": null,
      "id": "e57763b3",
      "metadata": {
        "id": "e57763b3"
      },
      "outputs": [],
      "source": []
    },
    {
      "cell_type": "markdown",
      "id": "d3d46d64",
      "metadata": {
        "id": "d3d46d64"
      },
      "source": [
        "#### 38. Consider a generator function that generates 10 integers and use it to build an array (★☆☆)"
      ]
    },
    {
      "cell_type": "code",
      "execution_count": null,
      "id": "24590d8c",
      "metadata": {
        "id": "24590d8c"
      },
      "outputs": [],
      "source": []
    },
    {
      "cell_type": "markdown",
      "id": "5e1e51e4",
      "metadata": {
        "id": "5e1e51e4"
      },
      "source": [
        "#### 39. Create a vector of size 10 with values ranging from 0 to 1, both excluded (★★☆)"
      ]
    },
    {
      "cell_type": "code",
      "execution_count": null,
      "id": "def73884",
      "metadata": {
        "id": "def73884"
      },
      "outputs": [],
      "source": []
    },
    {
      "cell_type": "markdown",
      "id": "9e19964c",
      "metadata": {
        "id": "9e19964c"
      },
      "source": [
        "#### 40. Create a random vector of size 10 and sort it (★★☆)"
      ]
    },
    {
      "cell_type": "code",
      "execution_count": null,
      "id": "ec302eb1",
      "metadata": {
        "id": "ec302eb1"
      },
      "outputs": [],
      "source": []
    },
    {
      "cell_type": "markdown",
      "id": "13a034e2",
      "metadata": {
        "id": "13a034e2"
      },
      "source": [
        "#### 41. How to sum a small array faster than np.sum? (★★☆)"
      ]
    },
    {
      "cell_type": "code",
      "execution_count": null,
      "id": "b09a3551",
      "metadata": {
        "id": "b09a3551"
      },
      "outputs": [],
      "source": []
    },
    {
      "cell_type": "markdown",
      "id": "32d10473",
      "metadata": {
        "id": "32d10473"
      },
      "source": [
        "#### 42. Consider two random arrays A and B, check if they are equal (★★☆)"
      ]
    },
    {
      "cell_type": "code",
      "execution_count": null,
      "id": "5ebb1103",
      "metadata": {
        "id": "5ebb1103"
      },
      "outputs": [],
      "source": []
    },
    {
      "cell_type": "markdown",
      "id": "a50474b0",
      "metadata": {
        "id": "a50474b0"
      },
      "source": [
        "#### 43. Make an array immutable (read-only) (★★☆)"
      ]
    },
    {
      "cell_type": "code",
      "execution_count": null,
      "id": "db6fe176",
      "metadata": {
        "id": "db6fe176"
      },
      "outputs": [],
      "source": []
    },
    {
      "cell_type": "markdown",
      "id": "b7a6093e",
      "metadata": {
        "id": "b7a6093e"
      },
      "source": [
        "#### 44. Consider a random 10x2 matrix representing cartesian coordinates, convert them to polar coordinates (★★☆)"
      ]
    },
    {
      "cell_type": "code",
      "execution_count": null,
      "id": "4479c48d",
      "metadata": {
        "id": "4479c48d"
      },
      "outputs": [],
      "source": []
    },
    {
      "cell_type": "markdown",
      "id": "934f889c",
      "metadata": {
        "id": "934f889c"
      },
      "source": [
        "#### 45. Create random vector of size 10 and replace the maximum value by 0 (★★☆)"
      ]
    },
    {
      "cell_type": "code",
      "execution_count": null,
      "id": "4b576814",
      "metadata": {
        "id": "4b576814"
      },
      "outputs": [],
      "source": []
    },
    {
      "cell_type": "markdown",
      "id": "d4f6e2e1",
      "metadata": {
        "id": "d4f6e2e1"
      },
      "source": [
        "#### 46. Create a structured array with `x` and `y` coordinates covering the [0,1]x[0,1] area (★★☆)"
      ]
    },
    {
      "cell_type": "code",
      "execution_count": null,
      "id": "f90f969b",
      "metadata": {
        "id": "f90f969b"
      },
      "outputs": [],
      "source": []
    },
    {
      "cell_type": "markdown",
      "id": "bc9c88d3",
      "metadata": {
        "id": "bc9c88d3"
      },
      "source": [
        "#### 47. Given two arrays, X and Y, construct the Cauchy matrix C (Cij =1/(xi - yj)) (★★☆)"
      ]
    },
    {
      "cell_type": "code",
      "execution_count": null,
      "id": "e90ad595",
      "metadata": {
        "id": "e90ad595"
      },
      "outputs": [],
      "source": []
    },
    {
      "cell_type": "markdown",
      "id": "a840a52f",
      "metadata": {
        "id": "a840a52f"
      },
      "source": [
        "#### 48. Print the minimum and maximum representable values for each numpy scalar type (★★☆)"
      ]
    },
    {
      "cell_type": "code",
      "execution_count": null,
      "id": "d2eb3b4a",
      "metadata": {
        "id": "d2eb3b4a"
      },
      "outputs": [],
      "source": []
    },
    {
      "cell_type": "markdown",
      "id": "0a0819d5",
      "metadata": {
        "id": "0a0819d5"
      },
      "source": [
        "#### 49. How to print all the values of an array? (★★☆)"
      ]
    },
    {
      "cell_type": "code",
      "execution_count": null,
      "id": "d76dbf55",
      "metadata": {
        "id": "d76dbf55"
      },
      "outputs": [],
      "source": []
    },
    {
      "cell_type": "markdown",
      "id": "50c62214",
      "metadata": {
        "id": "50c62214"
      },
      "source": [
        "#### 50. How to find the closest value (to a given scalar) in a vector? (★★☆)"
      ]
    },
    {
      "cell_type": "code",
      "execution_count": null,
      "id": "24b45bb5",
      "metadata": {
        "id": "24b45bb5"
      },
      "outputs": [],
      "source": []
    },
    {
      "cell_type": "markdown",
      "id": "4c5a5116",
      "metadata": {
        "id": "4c5a5116"
      },
      "source": [
        "#### 51. Create a structured array representing a position (x,y) and a color (r,g,b) (★★☆)"
      ]
    },
    {
      "cell_type": "code",
      "execution_count": null,
      "id": "275806b2",
      "metadata": {
        "id": "275806b2"
      },
      "outputs": [],
      "source": []
    },
    {
      "cell_type": "markdown",
      "id": "1d3399ca",
      "metadata": {
        "id": "1d3399ca"
      },
      "source": [
        "#### 52. Consider a random vector with shape (100,2) representing coordinates, find point by point distances (★★☆)"
      ]
    },
    {
      "cell_type": "code",
      "execution_count": null,
      "id": "67eae5bf",
      "metadata": {
        "id": "67eae5bf"
      },
      "outputs": [],
      "source": []
    },
    {
      "cell_type": "markdown",
      "id": "003ff920",
      "metadata": {
        "id": "003ff920"
      },
      "source": [
        "#### 53. How to convert a float (32 bits) array into an integer (32 bits) array in place?"
      ]
    },
    {
      "cell_type": "code",
      "execution_count": null,
      "id": "76245e6d",
      "metadata": {
        "id": "76245e6d"
      },
      "outputs": [],
      "source": []
    },
    {
      "cell_type": "markdown",
      "id": "0c99eac4",
      "metadata": {
        "id": "0c99eac4"
      },
      "source": [
        "#### 54. How to read the following file? (★★☆)\n",
        "```\n",
        "1, 2, 3, 4, 5\n",
        "6,  ,  , 7, 8\n",
        " ,  , 9,10,11\n",
        "```"
      ]
    },
    {
      "cell_type": "code",
      "execution_count": null,
      "id": "55c6bf8c",
      "metadata": {
        "id": "55c6bf8c"
      },
      "outputs": [],
      "source": []
    },
    {
      "cell_type": "markdown",
      "id": "8cd30360",
      "metadata": {
        "id": "8cd30360"
      },
      "source": [
        "#### 55. What is the equivalent of enumerate for numpy arrays? (★★☆)"
      ]
    },
    {
      "cell_type": "code",
      "execution_count": null,
      "id": "608315ba",
      "metadata": {
        "id": "608315ba"
      },
      "outputs": [],
      "source": []
    },
    {
      "cell_type": "markdown",
      "id": "4823a294",
      "metadata": {
        "id": "4823a294"
      },
      "source": [
        "#### 56. Generate a generic 2D Gaussian-like array (★★☆)"
      ]
    },
    {
      "cell_type": "code",
      "execution_count": null,
      "id": "9b3b682d",
      "metadata": {
        "id": "9b3b682d"
      },
      "outputs": [],
      "source": []
    },
    {
      "cell_type": "markdown",
      "id": "2dd8891d",
      "metadata": {
        "id": "2dd8891d"
      },
      "source": [
        "#### 57. How to randomly place p elements in a 2D array? (★★☆)"
      ]
    },
    {
      "cell_type": "code",
      "execution_count": null,
      "id": "a55c52dc",
      "metadata": {
        "id": "a55c52dc"
      },
      "outputs": [],
      "source": []
    },
    {
      "cell_type": "markdown",
      "id": "270b6834",
      "metadata": {
        "id": "270b6834"
      },
      "source": [
        "#### 58. Subtract the mean of each row of a matrix (★★☆)"
      ]
    },
    {
      "cell_type": "code",
      "execution_count": null,
      "id": "814080c9",
      "metadata": {
        "id": "814080c9"
      },
      "outputs": [],
      "source": []
    },
    {
      "cell_type": "markdown",
      "id": "52c92916",
      "metadata": {
        "id": "52c92916"
      },
      "source": [
        "#### 59. How to sort an array by the nth column? (★★☆)"
      ]
    },
    {
      "cell_type": "code",
      "execution_count": null,
      "id": "c6ebac6d",
      "metadata": {
        "id": "c6ebac6d"
      },
      "outputs": [],
      "source": []
    },
    {
      "cell_type": "markdown",
      "id": "05cef60b",
      "metadata": {
        "id": "05cef60b"
      },
      "source": [
        "#### 60. How to tell if a given 2D array has null columns? (★★☆)"
      ]
    },
    {
      "cell_type": "code",
      "execution_count": null,
      "id": "7979b467",
      "metadata": {
        "id": "7979b467"
      },
      "outputs": [],
      "source": []
    },
    {
      "cell_type": "markdown",
      "id": "4891fdf5",
      "metadata": {
        "id": "4891fdf5"
      },
      "source": [
        "#### 61. Find the nearest value from a given value in an array (★★☆)"
      ]
    },
    {
      "cell_type": "code",
      "execution_count": null,
      "id": "b38950fd",
      "metadata": {
        "id": "b38950fd"
      },
      "outputs": [],
      "source": []
    },
    {
      "cell_type": "markdown",
      "id": "b34bfbc7",
      "metadata": {
        "id": "b34bfbc7"
      },
      "source": [
        "#### 62. Considering two arrays with shape (1,3) and (3,1), how to compute their sum using an iterator? (★★☆)"
      ]
    },
    {
      "cell_type": "code",
      "execution_count": null,
      "id": "aa7eb006",
      "metadata": {
        "id": "aa7eb006"
      },
      "outputs": [],
      "source": []
    },
    {
      "cell_type": "markdown",
      "id": "77a27b83",
      "metadata": {
        "id": "77a27b83"
      },
      "source": [
        "#### 63. Create an array class that has a name attribute (★★☆)"
      ]
    },
    {
      "cell_type": "code",
      "execution_count": null,
      "id": "a2a83936",
      "metadata": {
        "id": "a2a83936"
      },
      "outputs": [],
      "source": []
    },
    {
      "cell_type": "markdown",
      "id": "f7f5d229",
      "metadata": {
        "id": "f7f5d229"
      },
      "source": [
        "#### 64. Consider a given vector, how to add 1 to each element indexed by a second vector (be careful with repeated indices)? (★★★)"
      ]
    },
    {
      "cell_type": "code",
      "execution_count": null,
      "id": "9b8f8f48",
      "metadata": {
        "id": "9b8f8f48"
      },
      "outputs": [],
      "source": []
    },
    {
      "cell_type": "markdown",
      "id": "b067fca8",
      "metadata": {
        "id": "b067fca8"
      },
      "source": [
        "#### 65. How to accumulate elements of a vector (X) to an array (F) based on an index list (I)? (★★★)"
      ]
    },
    {
      "cell_type": "code",
      "execution_count": null,
      "id": "f983f8ba",
      "metadata": {
        "id": "f983f8ba"
      },
      "outputs": [],
      "source": []
    },
    {
      "cell_type": "markdown",
      "id": "765e2b8e",
      "metadata": {
        "id": "765e2b8e"
      },
      "source": [
        "#### 66. Considering a (w,h,3) image of (dtype=ubyte), compute the number of unique colors (★★☆)"
      ]
    },
    {
      "cell_type": "code",
      "execution_count": null,
      "id": "7572d90d",
      "metadata": {
        "id": "7572d90d"
      },
      "outputs": [],
      "source": []
    },
    {
      "cell_type": "markdown",
      "id": "02743317",
      "metadata": {
        "id": "02743317"
      },
      "source": [
        "#### 67. Considering a four dimensions array, how to get sum over the last two axis at once? (★★★)"
      ]
    },
    {
      "cell_type": "code",
      "execution_count": null,
      "id": "980b5c45",
      "metadata": {
        "id": "980b5c45"
      },
      "outputs": [],
      "source": []
    },
    {
      "cell_type": "markdown",
      "id": "fe8b8107",
      "metadata": {
        "id": "fe8b8107"
      },
      "source": [
        "#### 68. Considering a one-dimensional vector D, how to compute means of subsets of D using a vector S of same size describing subset  indices? (★★★)"
      ]
    },
    {
      "cell_type": "code",
      "execution_count": null,
      "id": "9c17c8c9",
      "metadata": {
        "id": "9c17c8c9"
      },
      "outputs": [],
      "source": []
    },
    {
      "cell_type": "markdown",
      "id": "7efa1173",
      "metadata": {
        "id": "7efa1173"
      },
      "source": [
        "#### 69. How to get the diagonal of a dot product? (★★★)"
      ]
    },
    {
      "cell_type": "code",
      "execution_count": null,
      "id": "59fc6a51",
      "metadata": {
        "id": "59fc6a51"
      },
      "outputs": [],
      "source": []
    },
    {
      "cell_type": "markdown",
      "id": "b72adc30",
      "metadata": {
        "id": "b72adc30"
      },
      "source": [
        "#### 70. Consider the vector [1, 2, 3, 4, 5], how to build a new vector with 3 consecutive zeros interleaved between each value? (★★★)"
      ]
    },
    {
      "cell_type": "code",
      "execution_count": null,
      "id": "94b582b4",
      "metadata": {
        "id": "94b582b4"
      },
      "outputs": [],
      "source": []
    },
    {
      "cell_type": "markdown",
      "id": "fafa05b8",
      "metadata": {
        "id": "fafa05b8"
      },
      "source": [
        "#### 71. Consider an array of dimension (5,5,3), how to multiply it by an array with dimensions (5,5)? (★★★)"
      ]
    },
    {
      "cell_type": "code",
      "execution_count": null,
      "id": "0dbb5bd4",
      "metadata": {
        "id": "0dbb5bd4"
      },
      "outputs": [],
      "source": []
    },
    {
      "cell_type": "markdown",
      "id": "35a2bae5",
      "metadata": {
        "id": "35a2bae5"
      },
      "source": [
        "#### 72. How to swap two rows of an array? (★★★)"
      ]
    },
    {
      "cell_type": "code",
      "execution_count": null,
      "id": "d63b30c3",
      "metadata": {
        "id": "d63b30c3"
      },
      "outputs": [],
      "source": []
    },
    {
      "cell_type": "markdown",
      "id": "b760fc57",
      "metadata": {
        "id": "b760fc57"
      },
      "source": [
        "#### 73. Consider a set of 10 triplets describing 10 triangles (with shared vertices), find the set of unique line segments composing all the  triangles (★★★)"
      ]
    },
    {
      "cell_type": "code",
      "execution_count": null,
      "id": "01738774",
      "metadata": {
        "id": "01738774"
      },
      "outputs": [],
      "source": []
    },
    {
      "cell_type": "markdown",
      "id": "2d28cdaa",
      "metadata": {
        "id": "2d28cdaa"
      },
      "source": [
        "#### 74. Given a sorted array C that corresponds to a bincount, how to produce an array A such that np.bincount(A) == C? (★★★)"
      ]
    },
    {
      "cell_type": "code",
      "execution_count": null,
      "id": "8423859b",
      "metadata": {
        "id": "8423859b"
      },
      "outputs": [],
      "source": []
    },
    {
      "cell_type": "markdown",
      "id": "5f4cafbd",
      "metadata": {
        "id": "5f4cafbd"
      },
      "source": [
        "#### 75. How to compute averages using a sliding window over an array? (★★★)"
      ]
    },
    {
      "cell_type": "code",
      "execution_count": null,
      "id": "62d6d514",
      "metadata": {
        "id": "62d6d514"
      },
      "outputs": [],
      "source": []
    },
    {
      "cell_type": "markdown",
      "id": "575d8bb4",
      "metadata": {
        "id": "575d8bb4"
      },
      "source": [
        "#### 76. Consider a one-dimensional array Z, build a two-dimensional array whose first row is (Z[0],Z[1],Z[2]) and each subsequent row is  shifted by 1 (last row should be (Z[-3],Z[-2],Z[-1]) (★★★)"
      ]
    },
    {
      "cell_type": "code",
      "execution_count": null,
      "id": "2a41d341",
      "metadata": {
        "id": "2a41d341"
      },
      "outputs": [],
      "source": []
    },
    {
      "cell_type": "markdown",
      "id": "80dc0b2a",
      "metadata": {
        "id": "80dc0b2a"
      },
      "source": [
        "#### 77. How to negate a boolean, or to change the sign of a float inplace? (★★★)"
      ]
    },
    {
      "cell_type": "code",
      "execution_count": null,
      "id": "6fc68014",
      "metadata": {
        "id": "6fc68014"
      },
      "outputs": [],
      "source": []
    },
    {
      "cell_type": "markdown",
      "id": "7288634d",
      "metadata": {
        "id": "7288634d"
      },
      "source": [
        "#### 78. Consider 2 sets of points P0,P1 describing lines (2d) and a point p, how to compute distance from p to each line i (P0[i],P1[i])? (★★★)"
      ]
    },
    {
      "cell_type": "code",
      "execution_count": null,
      "id": "4602caa6",
      "metadata": {
        "id": "4602caa6"
      },
      "outputs": [],
      "source": []
    },
    {
      "cell_type": "markdown",
      "id": "e1880e79",
      "metadata": {
        "id": "e1880e79"
      },
      "source": [
        "#### 79. Consider 2 sets of points P0,P1 describing lines (2d) and a set of points P, how to compute distance from each point j (P[j]) to each line i (P0[i],P1[i])? (★★★)"
      ]
    },
    {
      "cell_type": "code",
      "execution_count": null,
      "id": "a14e151b",
      "metadata": {
        "id": "a14e151b"
      },
      "outputs": [],
      "source": []
    },
    {
      "cell_type": "markdown",
      "id": "b8a2a287",
      "metadata": {
        "id": "b8a2a287"
      },
      "source": [
        "#### 80. Consider an arbitrary array, write a function that extracts a subpart with a fixed shape and centered on a given element (pad with a `fill` value when necessary) (★★★)"
      ]
    },
    {
      "cell_type": "code",
      "execution_count": null,
      "id": "86af1186",
      "metadata": {
        "id": "86af1186"
      },
      "outputs": [],
      "source": []
    },
    {
      "cell_type": "markdown",
      "id": "caa64150",
      "metadata": {
        "id": "caa64150"
      },
      "source": [
        "#### 81. Consider an array Z = [1,2,3,4,5,6,7,8,9,10,11,12,13,14], how to generate an array R = [[1,2,3,4], [2,3,4,5], [3,4,5,6], ..., [11,12,13,14]]? (★★★)"
      ]
    },
    {
      "cell_type": "code",
      "execution_count": null,
      "id": "4e7cc696",
      "metadata": {
        "id": "4e7cc696"
      },
      "outputs": [],
      "source": []
    },
    {
      "cell_type": "markdown",
      "id": "9444c83b",
      "metadata": {
        "id": "9444c83b"
      },
      "source": [
        "#### 82. Compute a matrix rank (★★★)"
      ]
    },
    {
      "cell_type": "code",
      "execution_count": null,
      "id": "9e5c1d64",
      "metadata": {
        "id": "9e5c1d64"
      },
      "outputs": [],
      "source": []
    },
    {
      "cell_type": "markdown",
      "id": "6eef9f33",
      "metadata": {
        "id": "6eef9f33"
      },
      "source": [
        "#### 83. How to find the most frequent value in an array?"
      ]
    },
    {
      "cell_type": "code",
      "execution_count": null,
      "id": "9fb60e52",
      "metadata": {
        "id": "9fb60e52"
      },
      "outputs": [],
      "source": []
    },
    {
      "cell_type": "markdown",
      "id": "65f370f9",
      "metadata": {
        "id": "65f370f9"
      },
      "source": [
        "#### 84. Extract all the contiguous 3x3 blocks from a random 10x10 matrix (★★★)"
      ]
    },
    {
      "cell_type": "code",
      "execution_count": null,
      "id": "65ade1a6",
      "metadata": {
        "id": "65ade1a6"
      },
      "outputs": [],
      "source": []
    },
    {
      "cell_type": "markdown",
      "id": "845ad7f8",
      "metadata": {
        "id": "845ad7f8"
      },
      "source": [
        "#### 85. Create a 2D array subclass such that Z[i,j] == Z[j,i] (★★★)"
      ]
    },
    {
      "cell_type": "code",
      "execution_count": null,
      "id": "30b1ba71",
      "metadata": {
        "id": "30b1ba71"
      },
      "outputs": [],
      "source": []
    },
    {
      "cell_type": "markdown",
      "id": "adc48f02",
      "metadata": {
        "id": "adc48f02"
      },
      "source": [
        "#### 86. Consider a set of p matrices with shape (n,n) and a set of p vectors with shape (n,1). How to compute the sum of of the p matrix products at once? (result has shape (n,1)) (★★★)"
      ]
    },
    {
      "cell_type": "code",
      "execution_count": null,
      "id": "ec798e90",
      "metadata": {
        "id": "ec798e90"
      },
      "outputs": [],
      "source": []
    },
    {
      "cell_type": "markdown",
      "id": "9efb34b2",
      "metadata": {
        "id": "9efb34b2"
      },
      "source": [
        "#### 87. Consider a 16x16 array, how to get the block-sum (block size is 4x4)? (★★★)"
      ]
    },
    {
      "cell_type": "code",
      "execution_count": null,
      "id": "ea79f40b",
      "metadata": {
        "id": "ea79f40b"
      },
      "outputs": [],
      "source": []
    },
    {
      "cell_type": "markdown",
      "id": "a9368578",
      "metadata": {
        "id": "a9368578"
      },
      "source": [
        "#### 88. How to implement the Game of Life using numpy arrays? (★★★)"
      ]
    },
    {
      "cell_type": "code",
      "execution_count": null,
      "id": "315e9f11",
      "metadata": {
        "id": "315e9f11"
      },
      "outputs": [],
      "source": []
    },
    {
      "cell_type": "markdown",
      "id": "8c598af3",
      "metadata": {
        "id": "8c598af3"
      },
      "source": [
        "#### 89. How to get the n largest values of an array (★★★)"
      ]
    },
    {
      "cell_type": "code",
      "execution_count": null,
      "id": "cba8d433",
      "metadata": {
        "id": "cba8d433"
      },
      "outputs": [],
      "source": []
    },
    {
      "cell_type": "markdown",
      "id": "036a3bb0",
      "metadata": {
        "id": "036a3bb0"
      },
      "source": [
        "#### 90. Given an arbitrary number of vectors, build the cartesian product (every combination of every item) (★★★)"
      ]
    },
    {
      "cell_type": "code",
      "execution_count": null,
      "id": "d712972d",
      "metadata": {
        "id": "d712972d"
      },
      "outputs": [],
      "source": []
    },
    {
      "cell_type": "markdown",
      "id": "36487aab",
      "metadata": {
        "id": "36487aab"
      },
      "source": [
        "#### 91. How to create a record array from a regular array? (★★★)"
      ]
    },
    {
      "cell_type": "code",
      "execution_count": null,
      "id": "9779dbac",
      "metadata": {
        "id": "9779dbac"
      },
      "outputs": [],
      "source": []
    },
    {
      "cell_type": "markdown",
      "id": "9f178562",
      "metadata": {
        "id": "9f178562"
      },
      "source": [
        "#### 92. Consider a large vector Z, compute Z to the power of 3 using 3 different methods (★★★)"
      ]
    },
    {
      "cell_type": "code",
      "execution_count": null,
      "id": "b08000b8",
      "metadata": {
        "id": "b08000b8"
      },
      "outputs": [],
      "source": []
    },
    {
      "cell_type": "markdown",
      "id": "86acaf60",
      "metadata": {
        "id": "86acaf60"
      },
      "source": [
        "#### 93. Consider two arrays A and B of shape (8,3) and (2,2). How to find rows of A that contain elements of each row of B regardless of the order of the elements in B? (★★★)"
      ]
    },
    {
      "cell_type": "code",
      "execution_count": null,
      "id": "793b26d4",
      "metadata": {
        "id": "793b26d4"
      },
      "outputs": [],
      "source": []
    },
    {
      "cell_type": "markdown",
      "id": "c71b9df2",
      "metadata": {
        "id": "c71b9df2"
      },
      "source": [
        "#### 94. Considering a 10x3 matrix, extract rows with unequal values (e.g. [2,2,3]) (★★★)"
      ]
    },
    {
      "cell_type": "code",
      "execution_count": null,
      "id": "494069f0",
      "metadata": {
        "id": "494069f0"
      },
      "outputs": [],
      "source": []
    },
    {
      "cell_type": "markdown",
      "id": "1a8ae7c1",
      "metadata": {
        "id": "1a8ae7c1"
      },
      "source": [
        "#### 95. Convert a vector of ints into a matrix binary representation (★★★)"
      ]
    },
    {
      "cell_type": "code",
      "execution_count": null,
      "id": "d5e967b8",
      "metadata": {
        "id": "d5e967b8"
      },
      "outputs": [],
      "source": []
    },
    {
      "cell_type": "markdown",
      "id": "edef1198",
      "metadata": {
        "id": "edef1198"
      },
      "source": [
        "#### 96. Given a two dimensional array, how to extract unique rows? (★★★)"
      ]
    },
    {
      "cell_type": "code",
      "execution_count": null,
      "id": "fa14799b",
      "metadata": {
        "id": "fa14799b"
      },
      "outputs": [],
      "source": []
    },
    {
      "cell_type": "markdown",
      "id": "575598a1",
      "metadata": {
        "id": "575598a1"
      },
      "source": [
        "#### 97. Considering 2 vectors A & B, write the einsum equivalent of inner, outer, sum, and mul function (★★★)"
      ]
    },
    {
      "cell_type": "code",
      "execution_count": null,
      "id": "9da72f6e",
      "metadata": {
        "id": "9da72f6e"
      },
      "outputs": [],
      "source": []
    },
    {
      "cell_type": "markdown",
      "id": "88e2796a",
      "metadata": {
        "id": "88e2796a"
      },
      "source": [
        "#### 98. Considering a path described by two vectors (X,Y), how to sample it using equidistant samples (★★★)?"
      ]
    },
    {
      "cell_type": "code",
      "execution_count": null,
      "id": "c17314f8",
      "metadata": {
        "id": "c17314f8"
      },
      "outputs": [],
      "source": []
    },
    {
      "cell_type": "markdown",
      "id": "8b25b7bd",
      "metadata": {
        "id": "8b25b7bd"
      },
      "source": [
        "#### 99. Given an integer n and a 2D array X, select from X the rows which can be interpreted as draws from a multinomial distribution with n degrees, i.e., the rows which only contain integers and which sum to n. (★★★)"
      ]
    },
    {
      "cell_type": "code",
      "execution_count": null,
      "id": "f0dc48cd",
      "metadata": {
        "id": "f0dc48cd"
      },
      "outputs": [],
      "source": []
    },
    {
      "cell_type": "markdown",
      "id": "b7068c76",
      "metadata": {
        "id": "b7068c76"
      },
      "source": [
        "#### 100. Compute bootstrapped 95% confidence intervals for the mean of a 1D array X (i.e., resample the elements of an array with replacement N times, compute the mean of each sample, and then compute percentiles over the means). (★★★)"
      ]
    },
    {
      "cell_type": "code",
      "execution_count": null,
      "id": "3c234201",
      "metadata": {
        "id": "3c234201"
      },
      "outputs": [],
      "source": []
    }
  ],
  "metadata": {
    "colab": {
      "provenance": []
    },
    "language_info": {
      "name": "python"
    },
    "kernelspec": {
      "name": "python3",
      "display_name": "Python 3"
    }
  },
  "nbformat": 4,
  "nbformat_minor": 5
}